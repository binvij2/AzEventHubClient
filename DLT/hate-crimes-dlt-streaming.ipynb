{
 "cells": [
  {
   "cell_type": "code",
   "execution_count": 0,
   "metadata": {
    "application/vnd.databricks.v1+cell": {
     "cellMetadata": {},
     "inputWidgets": {},
     "nuid": "50ad215d-4d41-497a-8a03-3ed35bb7f40b",
     "showTitle": false,
     "tableResultSettingsMap": {},
     "title": ""
    }
   },
   "outputs": [],
   "source": [
    "secret_scope = \"eventhub-hate-crimes\"\n",
    "secret_name = \"connectionString\"\n",
    "topic_name = dbutils.secrets.get(secret_scope, \"eventhubname\")\n",
    "eh_namespace_name = dbutils.secrets.get(secret_scope, \"eventhubnamespace\")\n",
    "readConnectionString = dbutils.secrets.get(secret_scope, secret_name)\n",
    "eh_sasl = 'kafkashaded.org.apache.kafka.common.security.plain.PlainLoginModule' \\\n",
    "    + f' required username=\"$ConnectionString\" password=\"{readConnectionString}\";'\n",
    "bootstrap_servers = f\"{eh_namespace_name}.servicebus.windows.net:9093\"\n",
    "kafka_options = {\n",
    "     \"kafka.bootstrap.servers\": bootstrap_servers,\n",
    "     \"kafka.sasl.mechanism\": \"PLAIN\",\n",
    "     \"kafka.security.protocol\": \"SASL_SSL\",\n",
    "     \"kafka.request.timeout.ms\": \"60000\",\n",
    "     \"kafka.session.timeout.ms\": \"30000\",\n",
    "     \"startingOffsets\": \"earliest\",\n",
    "     \"kafka.sasl.jaas.config\": eh_sasl,\n",
    "     \"subscribe\": topic_name\n",
    "  }"
   ]
  },
  {
   "cell_type": "code",
   "execution_count": 0,
   "metadata": {
    "application/vnd.databricks.v1+cell": {
     "cellMetadata": {
      "byteLimit": 2048000,
      "rowLimit": 10000
     },
     "inputWidgets": {},
     "nuid": "4f0d6287-b949-4323-a01b-3e613a7e65dd",
     "showTitle": false,
     "tableResultSettingsMap": {},
     "title": ""
    }
   },
   "outputs": [],
   "source": [
    "\n",
    "from pyspark.sql.functions import from_json, col\n",
    "from pyspark.sql.types import StructType, StringType, IntegerType\n",
    "\n",
    "schema = StructType() \\\n",
    ".add(\"Month\", StringType()) \\\n",
    ".add(\"IncidentNumber\", StringType()) \\\n",
    ".add(\"DateofIncident\", StringType()) \\\n",
    ".add(\"DayofWeek\", StringType()) \\\n",
    ".add(\"NumberoOfVictimsUnder18\", StringType()) \\\n",
    ".add(\"NumberOfVictimsOver18\", StringType()) \\\n",
    ".add(\"NumberOfOffendersUnder18\", StringType()) \\\n",
    ".add(\"NumberOfOffendersOver18\", StringType()) \\\n",
    ".add(\"RaceEthnicityofOffenders\", StringType()) \\\n",
    ".add(\"Offenses\", StringType()) \\\n",
    ".add(\"OffenseLocation\", StringType()) \\\n",
    ".add(\"Bias\", StringType()) \\\n",
    ".add(\"ZipCode\", StringType()) \\\n",
    ".add(\"APDSector\", StringType()) \\\n",
    ".add(\"CouncilDistrict\", StringType())\n",
    "\n",
    "\n",
    "streaming_df = (\n",
    "    spark.readStream.format(\"kafka\").options(**kafka_options).load()\n",
    "    .selectExpr(\"cast(value as string) as json_payload\")\n",
    "    .select(from_json(col(\"json_payload\"), schema).alias(\"data\"))\n",
    "    .select(\"data.*\")\n",
    ")\n",
    "\n",
    "streaming_df.createOrReplaceTempView(\"hate_crimes_temp_view\")\n"
   ]
  },
  {
   "cell_type": "code",
   "execution_count": 0,
   "metadata": {
    "application/vnd.databricks.v1+cell": {
     "cellMetadata": {},
     "inputWidgets": {},
     "nuid": "543d72b6-3308-4c6c-a415-cae4624dcbd2",
     "showTitle": false,
     "tableResultSettingsMap": {},
     "title": ""
    }
   },
   "outputs": [],
   "source": [
    "import dlt \n",
    "\n",
    "@dlt.table(\n",
    "  name=\"hate_crimes_raw\",\n",
    "  comment=\"Streaming table for raw data from Event Hub\",\n",
    "  table_properties={\n",
    "    \"quality\": \"bronze\"}\n",
    "  )\n",
    "def hate_crimes_raw():\n",
    "    return spark.read.table(\"hate_crimes_temp_view\")\n",
    "    "
   ]
  },
  {
   "cell_type": "markdown",
   "metadata": {
    "application/vnd.databricks.v1+cell": {
     "cellMetadata": {},
     "inputWidgets": {},
     "nuid": "b3d33bc8-5f00-4c60-948b-1797d6a06686",
     "showTitle": false,
     "tableResultSettingsMap": {},
     "title": ""
    }
   },
   "source": [
    "### Data Cleansing in Silver Layer"
   ]
  },
  {
   "cell_type": "code",
   "execution_count": 0,
   "metadata": {
    "application/vnd.databricks.v1+cell": {
     "cellMetadata": {},
     "inputWidgets": {},
     "nuid": "81184705-6ea3-49d9-b5bf-9a96fbab24e7",
     "showTitle": false,
     "tableResultSettingsMap": {},
     "title": ""
    }
   },
   "outputs": [],
   "source": [
    "from pyspark.sql.functions import *\n",
    "\n",
    "@dlt.table(\n",
    "  name=\"hate_crimes_transformed\",\n",
    "  comment=\"Streaming table for raw data from Event Hub\",\n",
    "  table_properties={\n",
    "    \"quality\": \"silver\"}\n",
    "  )   \n",
    "def hate_crimes_clean():\n",
    "    crimesDF = spark.read.table(\"hate_crimes_raw\") \\\n",
    "        .withColumn(\"NumberoOfVictimsUnder18\", when(col(\"NumberoOfVictimsUnder18\") == \"Unknown\", \"-1\").otherwise(col(\"NumberoOfVictimsUnder18\"))) \\\n",
    "        .withColumn(\"NumberOfVictimsOver18\", when(col(\"NumberOfVictimsOver18\") == \"Unknown\", \"-1\").otherwise(col(\"NumberoOfVictimsUnder18\"))) \\\n",
    "        .withColumn(\"NumberOfOffendersUnder18\", when(col(\"NumberOfOffendersUnder18\") == \"Unknown\", \"-1\").otherwise(col(\"NumberoOfVictimsUnder18\"))) \\\n",
    "         .withColumn(\"NumberOfOffendersOver18\", when(col(\"NumberOfOffendersOver18\") == \"Unknown\", \"-1\").otherwise(col(\"NumberoOfVictimsUnder18\"))) \\\n",
    "         .withColumn(\"APDSector\", when(col(\"APDSector\") == \"\", \"Unknown\").otherwise(col(\"APDSector\"))) \n",
    "\n",
    "    crimesDF = crimesDF.withColumn(\"DateofIncident\",to_date(substring(col(\"DateofIncident\"), 1, 10), 'MM/dd/yyyy')).alias(\"DateOfIncident\") \\\n",
    "        .withColumn(\"NumberoOfVictimsUnder18\", col(\"NumberoOfVictimsUnder18\").cast(\"int\")).alias(\"NumVictimsUnder18\") \\\n",
    "        .withColumn(\"NumberOfVictimsOver18\", col(\"NumberOfVictimsOver18\").cast(\"int\")).alias(\"NumVictimsOver18\") \\\n",
    "        .withColumn(\"NumberOfOffendersUnder18\", col(\"NumberOfOffendersUnder18\").cast(\"int\")).alias(\"NumOffendersUnder18\") \\\n",
    "        .withColumn(\"NumberOfOffendersOver18\", col(\"NumberOfOffendersOver18\").cast(\"int\")).alias(\"NumOffendersOver18\")\n",
    "\n",
    "    return crimesDF.select(\"*\")\n",
    "\n",
    "                             \n",
    "    \n"
   ]
  },
  {
   "cell_type": "code",
   "execution_count": 0,
   "metadata": {
    "application/vnd.databricks.v1+cell": {
     "cellMetadata": {},
     "inputWidgets": {},
     "nuid": "70b3d2c3-5459-4421-9b72-91719e53d93e",
     "showTitle": false,
     "tableResultSettingsMap": {},
     "title": ""
    }
   },
   "outputs": [],
   "source": [
    "@dlt.table(\n",
    "  name=\"hate_crimes_silver\",\n",
    "  comment=\"Cleansed data\",\n",
    "  table_properties={\n",
    "    \"quality\": \"silver\"}\n",
    "  )\n",
    "\n",
    "def hate_crimes_silver():\n",
    "    return spark.read.table(\"hate_crimes_transformed\") \\\n",
    "        .withColumnRenamed(\"DateofIncident\", \"DateOfIncident\") \\\n",
    "        .withColumn(\"IncidentYear\", year(\"DateOfIncident\")) \\\n",
    "        .select(\"*\")\n",
    "\n",
    "    "
   ]
  },
  {
   "cell_type": "code",
   "execution_count": 0,
   "metadata": {
    "application/vnd.databricks.v1+cell": {
     "cellMetadata": {},
     "inputWidgets": {},
     "nuid": "498c1713-7c4a-4bc4-8ec9-056748de937a",
     "showTitle": false,
     "tableResultSettingsMap": {},
     "title": ""
    }
   },
   "outputs": [],
   "source": [
    "@dlt.table(\n",
    "  name=\"crimes_by_year_gold\",\n",
    "  comment=\"Total crimes by year\",\n",
    "  table_properties={\n",
    "    \"quality\": \"gold\"}\n",
    "  )\n",
    "def crimes_by_year():\n",
    "    return spark.read.table(\"hate_crimes_silver\") \\\n",
    "        .groupBy(\"IncidentYear\") \\\n",
    "        .agg(count(\"*\").alias(\"TotalCrimes\"))\n"
   ]
  },
  {
   "cell_type": "code",
   "execution_count": 0,
   "metadata": {
    "application/vnd.databricks.v1+cell": {
     "cellMetadata": {},
     "inputWidgets": {},
     "nuid": "74b7a966-f472-4b35-9fe4-e494d52f8f7b",
     "showTitle": false,
     "tableResultSettingsMap": {},
     "title": ""
    }
   },
   "outputs": [],
   "source": [
    "@dlt.table(\n",
    "    name=\"crimes_by_apd_sector_gold\",\n",
    "    comment=\"Total Crimes by APD Sector\",\n",
    "    table_properties={\n",
    "    \"quality\": \"gold\"}\n",
    "    )\n",
    "def crimes_by_apd_sector():\n",
    "    return spark.read.table(\"hate_crimes_silver\") \\\n",
    "    .groupBy(\"APDSector\") \\\n",
    "    .agg(count(\"*\").alias(\"TotalCrimes\"))"
   ]
  },
  {
   "cell_type": "code",
   "execution_count": 0,
   "metadata": {
    "application/vnd.databricks.v1+cell": {
     "cellMetadata": {},
     "inputWidgets": {},
     "nuid": "3fdc48b2-7fe1-4e19-a7ec-94a7f77ec23d",
     "showTitle": false,
     "tableResultSettingsMap": {},
     "title": ""
    }
   },
   "outputs": [],
   "source": [
    "@dlt.table(\n",
    "    name=\"crimes_on_minor_gold\",\n",
    "    comment=\"Incidents on minor\",\n",
    "    table_properties={\n",
    "    \"quality\": \"gold\"}\n",
    "    )\n",
    "def crimes_on_minor():\n",
    "    return spark.read.table(\"hate_crimes_silver\") \\\n",
    "        .where(col(\"NumberoOfVictimsUnder18\") > 0) \\\n",
    "        "
   ]
  }
 ],
 "metadata": {
  "application/vnd.databricks.v1+notebook": {
   "computePreferences": null,
   "dashboards": [],
   "environmentMetadata": {
    "base_environment": "",
    "environment_version": "2"
   },
   "inputWidgetPreferences": null,
   "language": "python",
   "notebookMetadata": {
    "pythonIndentUnit": 4
   },
   "notebookName": "hate-crimes-dlt-streaming",
   "widgets": {}
  },
  "language_info": {
   "name": "python"
  }
 },
 "nbformat": 4,
 "nbformat_minor": 0
}